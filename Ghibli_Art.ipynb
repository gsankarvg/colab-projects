{
 "cells": [
  {
   "cell_type": "code",
   "execution_count": null,
   "metadata": {
    "colab": {
     "base_uri": "https://localhost:8080/"
    },
    "id": "l0XXMuIFmcsx",
    "outputId": "0044029b-644e-4fd0-a3d8-9175ebc9c944"
   },
   "outputs": [],
   "source": [
    "! pip install accelerate diffusers controlnet_aux"
   ]
  },
  {
   "cell_type": "code",
   "execution_count": null,
   "metadata": {
    "id": "TJynAgUgnctB"
   },
   "outputs": [],
   "source": [
    "import torch\n",
    "from controlnet_aux import CannyDetector\n",
    "from diffusers import StableDiffusionControlNetPipeline, ControlNetModel\n",
    "from diffusers.utils import load_image, make_image_grid"
   ]
  },
  {
   "cell_type": "code",
   "execution_count": null,
   "metadata": {
    "colab": {
     "base_uri": "https://localhost:8080/",
     "height": 104,
     "referenced_widgets": [
      "1cf0ec178e0646599697f8157de946f7",
      "e40d6fc4d3e04919800f05387a61f4e6",
      "ddd2d8c3eb5a42d587b1a60c4660d3b4",
      "bc96581c23264d298a703229af3fcc5b",
      "2fbe215aaa7140bfa076897916a67981",
      "56c5f3db5d07407eb4bf6a2380baa145",
      "a0ed7b2e7ceb468882d5274861e79d81",
      "73518d6d4cf14da783c8b28baf0516ef",
      "21be53fc9aa642bdb178e5b86b44c30b",
      "bcc9e0c14f844284a7a08a1c99946a44",
      "3163a634a3b2495b881185eead2499ca"
     ]
    },
    "id": "37zqORA6o5zr",
    "outputId": "828758e8-e1eb-464b-fc12-8cfc8bdeebca"
   },
   "outputs": [],
   "source": [
    "controlnet = ControlNetModel.from_pretrained(\n",
    "    \"lllyasviel/sd-controlnet-canny\",\n",
    "    torch_dtype=torch.float16,\n",
    "    varient = \"fp16\"\n",
    ")\n",
    "\n",
    "pipe = StableDiffusionControlNetPipeline.from_pretrained(\n",
    "    \"Yntec/AbsoluteReality\",\n",
    "    controlnet=controlnet,\n",
    "    torch_dtype=torch.float16\n",
    ")"
   ]
  },
  {
   "cell_type": "code",
   "execution_count": null,
   "metadata": {
    "id": "kzkDFlmtrRC8"
   },
   "outputs": [],
   "source": [
    "pipe.load_ip_adapter(\"h94/IP-Adapter\",\n",
    "                     subfolder=\"models\",\n",
    "                     weight_name=\"ip-adapter_sd15.bin\")\n",
    "\n",
    "pipe.enable_model_cpu_offload()"
   ]
  },
  {
   "cell_type": "code",
   "execution_count": null,
   "metadata": {
    "colab": {
     "base_uri": "https://localhost:8080/",
     "height": 56
    },
    "id": "B3z5SWQG-Jm1",
    "outputId": "e99380c9-9c61-40fd-b342-10ef32785f00"
   },
   "outputs": [],
   "source": [
    "from google.colab import files\n",
    "files.upload()\n",
    "print(\"files uploaded.\")"
   ]
  },
  {
   "cell_type": "code",
   "execution_count": null,
   "metadata": {
    "colab": {
     "base_uri": "https://localhost:8080/",
     "height": 567
    },
    "id": "v7lhs8s_-zHa",
    "outputId": "52aa43a8-e157-4628-fa52-ee77c2b833c7"
   },
   "outputs": [],
   "source": [
    "img = load_image(\"2024-miyazaki-hayao.jpg\")\n",
    "img"
   ]
  },
  {
   "cell_type": "code",
   "execution_count": null,
   "metadata": {
    "colab": {
     "base_uri": "https://localhost:8080/",
     "height": 619
    },
    "id": "t5rqBAzEAarc",
    "outputId": "f451888b-ad9f-4649-bc55-074081c9e10a"
   },
   "outputs": [],
   "source": [
    "ip_adap_img = load_image(\"style_input.jpg\")\n",
    "ip_adap_img"
   ]
  },
  {
   "cell_type": "code",
   "execution_count": null,
   "metadata": {
    "colab": {
     "base_uri": "https://localhost:8080/",
     "height": 785
    },
    "id": "Bl9eadX-A1v6",
    "outputId": "970ef1d5-be74-44d3-ce6c-47b9eb0d0ff0"
   },
   "outputs": [],
   "source": [
    "canny = CannyDetector()\n",
    "canny_img = canny(img,detect_resolution=512,image_resolution=768)\n",
    "canny_img"
   ]
  },
  {
   "cell_type": "code",
   "execution_count": null,
   "metadata": {
    "colab": {
     "base_uri": "https://localhost:8080/",
     "height": 49,
     "referenced_widgets": [
      "2a64a6fceac4469abe3aa49ffe7c03dc",
      "55fa0e826ce944619e9eb9a970cc1ae0",
      "b057b35a0dea49bb9b1ae9bc125622ba",
      "bda639ff8b514eeb8666e936ab113e2f",
      "124363e717eb4a749fdac9f3d29f1f88",
      "40c556e1cbe94300b787505eb7195944",
      "fa919f2fbdd04bf2afc506a1f6cf97b7",
      "6148850ec9814f99b2286e59cf5af27b",
      "5ebeb455b04845a890c8efd20095c9ec",
      "b53ffd73d6274a65b85a7beb7887c209",
      "d84a929c59aa4d0189a60cd7277e77ad"
     ]
    },
    "id": "hfFLkRqoBruJ",
    "outputId": "82086856-f30d-4520-dfda-71d230918a71"
   },
   "outputs": [],
   "source": [
    "prompt = \"\"\"\n",
    "(photorealistic:1.2), raw, masterpiece, high quality, 8k, anime style, ghibli-like, white hair, white beard\n",
    "\"\"\"\n",
    "\n",
    "# 0.3 to 0.7 is a good range.\n",
    "\n",
    "pipe.set_ip_adapter_scale(0.5)\n",
    "\n",
    "images = pipe(prompt=prompt,\n",
    "              negative_prompt=\"low quality\",\n",
    "              height=768,\n",
    "              width=768,\n",
    "              image=canny_img,\n",
    "              ip_adapter_image=ip_adap_img,\n",
    "              guidance_scale=6,\n",
    "              controlnet_conditioning_scale=0.7,\n",
    "              num_inference_steps=20,\n",
    "              num_images_per_prompt=3,\n",
    "              ).images"
   ]
  },
  {
   "cell_type": "code",
   "execution_count": null,
   "metadata": {
    "colab": {
     "base_uri": "https://localhost:8080/",
     "height": 375
    },
    "id": "Ejpq9Bd0FgDw",
    "outputId": "1852ea1e-cc94-441f-c6e6-dc5bd8a76864"
   },
   "outputs": [],
   "source": [
    "make_image_grid(images,cols=3,rows=1)"
   ]
  }
 ],
 "metadata": {
  "colab": {
   "gpuType": "T4",
   "provenance": []
  },
  "kernelspec": {
   "display_name": "Python 3",
   "name": "python3"
  },
  "language_info": {
   "name": "python"
  }
 },
 "nbformat": 4,
 "nbformat_minor": 0
}
